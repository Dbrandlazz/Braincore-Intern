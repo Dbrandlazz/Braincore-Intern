{
 "cells": [
  {
   "cell_type": "code",
   "execution_count": 1,
   "metadata": {},
   "outputs": [],
   "source": [
    "from keras.models import load_model  # TensorFlow is required for Keras to work\n",
    "from PIL import Image, ImageOps  # Install pillow instead of PIL\n",
    "import numpy as np"
   ]
  },
  {
   "cell_type": "code",
   "execution_count": 2,
   "metadata": {},
   "outputs": [],
   "source": [
    "# Disable scientific notation for clarity\n",
    "np.set_printoptions(suppress=True)\n",
    "\n",
    "# Load the model\n",
    "model = load_model(\"keras_model.h5\", compile=False)\n",
    "\n",
    "# Load the labels\n",
    "class_names = open(\"labels.txt\", \"r\").readlines()"
   ]
  },
  {
   "cell_type": "code",
   "execution_count": 3,
   "metadata": {},
   "outputs": [],
   "source": [
    "# Create the array of the right shape to feed into the keras model\n",
    "# We will process 3 images, so we need a shape of (3, 224, 224, 3)\n",
    "data = np.ndarray(shape=(3, 224, 224, 3), dtype=np.float32)\n",
    "\n",
    "# List of image paths to be predicted\n",
    "image_paths = [\"New Image/mountain.jpg\", \"New Image/building.jpg\", \"New Image/sea.jpg\"]\n",
    "\n",
    "# Process each image\n",
    "for i, image_path in enumerate(image_paths):\n",
    "    # Load and process the image\n",
    "    image = Image.open(image_path).convert(\"RGB\")\n",
    "    \n",
    "    # Resizing the image to be at least 224x224 and then cropping from the center\n",
    "    size = (224, 224)\n",
    "    image = ImageOps.fit(image, size, Image.Resampling.LANCZOS)\n",
    "    \n",
    "    # Turn the image into a numpy array\n",
    "    image_array = np.asarray(image)\n",
    "    \n",
    "    # Normalize the image\n",
    "    normalized_image_array = (image_array.astype(np.float32) / 127.5) - 1\n",
    "    \n",
    "    # Load the image into the array\n",
    "    data[i] = normalized_image_array"
   ]
  },
  {
   "cell_type": "code",
   "execution_count": 4,
   "metadata": {},
   "outputs": [
    {
     "name": "stdout",
     "output_type": "stream",
     "text": [
      "1/1 [==============================] - 1s 1s/step\n",
      "Image 1:\n",
      "Class: Mountain\n",
      "Confidence Score: 0.9987463\n",
      "\n",
      "Image 2:\n",
      "Class: Buildings\n",
      "Confidence Score: 0.9999807\n",
      "\n",
      "Image 3:\n",
      "Class: Sea\n",
      "Confidence Score: 1.0\n",
      "\n"
     ]
    }
   ],
   "source": [
    "# Predict the model\n",
    "predictions = model.predict(data)\n",
    "\n",
    "# Process and print the results for each image\n",
    "for i, prediction in enumerate(predictions):\n",
    "    index = np.argmax(prediction)\n",
    "    class_name = class_names[index]\n",
    "    confidence_score = prediction[index]\n",
    "    \n",
    "    # Print prediction and confidence score for each image\n",
    "    print(f\"Image {i+1}:\")\n",
    "    print(\"Class:\", class_name[2:].strip())  # strip() is used to remove any extra newline characters\n",
    "    print(\"Confidence Score:\", confidence_score)\n",
    "    print()"
   ]
  }
 ],
 "metadata": {
  "kernelspec": {
   "display_name": "Python 3",
   "language": "python",
   "name": "python3"
  },
  "language_info": {
   "codemirror_mode": {
    "name": "ipython",
    "version": 3
   },
   "file_extension": ".py",
   "mimetype": "text/x-python",
   "name": "python",
   "nbconvert_exporter": "python",
   "pygments_lexer": "ipython3",
   "version": "3.9.18"
  }
 },
 "nbformat": 4,
 "nbformat_minor": 2
}
