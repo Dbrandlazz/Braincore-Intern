{
  "cells": [
    {
      "cell_type": "markdown",
      "metadata": {
        "id": "H0TR-at-r8GJ"
      },
      "source": [
        "## Configurations"
      ]
    },
    {
      "cell_type": "code",
      "execution_count": null,
      "metadata": {
        "id": "ejoZMLP0r92g"
      },
      "outputs": [],
      "source": [
        "import torch\n",
        "\n",
        "DEVICE = \"cuda\" if torch.cuda.is_available() else \"cpu\"\n",
        "BATCH_SIZE = 128\n",
        "NUM_EPOCHS = 10\n",
        "LEARNING_RATE = 1e-4\n",
        "TRAIN_IMAGES_DIR = '/content/train_v2/train'\n",
        "VALID_IMAGES_DIR = '/content/validation_v2/validation'\n",
        "TEST_IMAGES_DIR = '/content/test_v2/test'\n",
        "TRAIN_CSV = '/content/written_name_train_v2.csv'\n",
        "VALID_CSV = '/content/written_name_validation_v2.csv'\n",
        "TEST_CSV = '/content/written_name_test_v2.csv'\n",
        "MAX_LENGTH = 20\n",
        "VOCAB_SIZE = 30\n",
        "IMAGE_SIZE = [300, 100]"
      ]
    },
    {
      "cell_type": "markdown",
      "metadata": {
        "id": "wWA-OmuKsUnL"
      },
      "source": [
        "## Utility Functions"
      ]
    },
    {
      "cell_type": "code",
      "execution_count": null,
      "metadata": {
        "id": "ehptbIAhsVdK"
      },
      "outputs": [],
      "source": [
        "import torch\n",
        "import pandas as pd\n",
        "import torch.nn.functional as F\n",
        "\n",
        "\n",
        "def get_dataset(csv_file, drop_low_samples=True):\n",
        "    dataset = pd.read_csv(csv_file)\n",
        "    cleaned_data = dataset.dropna()\n",
        "    cleaned_data = cleaned_data[cleaned_data['IDENTITY'] != 'UNREADABLE']\n",
        "    cleaned_data['IDENTITY'] = cleaned_data['IDENTITY'].str.lower()\n",
        "    cleaned_data = cleaned_data.reset_index(drop=True)\n",
        "    if drop_low_samples:\n",
        "        indices = [idx for idx, label in enumerate(\n",
        "            cleaned_data['IDENTITY'].values) if len(label) > MAX_LENGTH]\n",
        "        cleaned_data = cleaned_data.drop(index=indices)\n",
        "        cleaned_data = cleaned_data.reset_index(drop=True)\n",
        "    return cleaned_data\n",
        "\n",
        "\n",
        "def get_vocabulary():\n",
        "    vocabulary = [' ', \"'\", '-', '`', 'a', 'b', 'c', 'd', 'e', 'f', 'g', 'h', 'i', 'j',\n",
        "                  'k', 'l', 'm', 'n', 'o', 'p', 'q', 'r', 's', 't', 'u', 'v', 'w', 'x', 'y', 'z']\n",
        "\n",
        "    int2char = dict(enumerate(vocabulary))\n",
        "    int2char = {k+1: v for k, v in int2char.items()}\n",
        "    char2int = {v: k for k, v in int2char.items()}\n",
        "\n",
        "    return int2char, char2int\n",
        "\n",
        "\n",
        "def encode(string):\n",
        "    _, char2int = get_vocabulary()\n",
        "    token = torch.tensor([char2int[i] for i in string])\n",
        "    pad_token = F.pad(token, pad=(0, MAX_LENGTH-len(token)),\n",
        "                      mode='constant', value=0)\n",
        "    return pad_token\n",
        "\n",
        "\n",
        "def decode(token, vocabulary):\n",
        "    int2char, _ = get_vocabulary()\n",
        "    token = token[token != 0]\n",
        "    string = [int2char[i.item()] for i in token]\n",
        "    return \"\".join(string)"
      ]
    },
    {
      "cell_type": "markdown",
      "metadata": {
        "id": "w1vFaMA7sWr8"
      },
      "source": [
        "## Dataset Class"
      ]
    },
    {
      "cell_type": "code",
      "execution_count": null,
      "metadata": {
        "id": "EwAIpgQesaOS"
      },
      "outputs": [],
      "source": [
        "import os\n",
        "import torch\n",
        "import cv2\n",
        "import numpy as np\n",
        "from torch.utils.data import Dataset\n",
        "\n",
        "\n",
        "class HRDataset(Dataset):\n",
        "    def __init__(self, dataset, encoder, mode='train'):\n",
        "        super().__init__()\n",
        "        if mode == 'train':\n",
        "            self.dataset_path = TRAIN_IMAGES_DIR\n",
        "        elif mode == 'valid':\n",
        "            self.dataset_path = VALID_IMAGES_DIR\n",
        "        elif mode == 'test':\n",
        "            self.dataset_path = TEST_IMAGES_DIR\n",
        "\n",
        "        self.data = dataset\n",
        "        self.encoder = encoder\n",
        "\n",
        "    def __len__(self):\n",
        "        return self.data.shape[0]\n",
        "\n",
        "    def __getitem__(self, index):\n",
        "        image_file = self.data.iloc[index]['FILENAME']\n",
        "        image = cv2.imread(os.path.join(self.dataset_path, image_file),\n",
        "                           cv2.IMREAD_GRAYSCALE)\n",
        "        image = cv2.resize(image, IMAGE_SIZE,\n",
        "                           interpolation=cv2.INTER_AREA)\n",
        "        image = cv2.rotate(image, cv2.ROTATE_90_CLOCKWISE) / 255.\n",
        "\n",
        "        image = np.expand_dims(image, 0)\n",
        "\n",
        "        label = self.data.iloc[index]['IDENTITY']\n",
        "        label = self.encoder(label)\n",
        "\n",
        "        image = torch.as_tensor(image, dtype=torch.float32)\n",
        "        label = torch.as_tensor(label, dtype=torch.int32)\n",
        "\n",
        "        return image, label"
      ]
    },
    {
      "cell_type": "markdown",
      "metadata": {
        "id": "X5fJoUM6sbgQ"
      },
      "source": [
        "## Model Definition"
      ]
    },
    {
      "cell_type": "code",
      "execution_count": null,
      "metadata": {
        "id": "uDN7dxpGsd3o"
      },
      "outputs": [],
      "source": [
        "import torch\n",
        "import torch.nn as nn\n",
        "\n",
        "\n",
        "class FeatureExtractor(nn.Module):\n",
        "    def __init__(self):\n",
        "        super(FeatureExtractor, self).__init__()\n",
        "        self.conv1 = nn.Conv2d(1, 32, kernel_size=(3, 3), padding='same')\n",
        "        self.bn1 = nn.BatchNorm2d(32)\n",
        "        self.conv2 = nn.Conv2d(32, 64, kernel_size=(3, 3), padding='same')\n",
        "        self.bn2 = nn.BatchNorm2d(64)\n",
        "        self.conv3 = nn.Conv2d(64, 64, kernel_size=(3, 3), padding='same')\n",
        "        self.bn3 = nn.BatchNorm2d(64)\n",
        "\n",
        "        self.maxpool = nn.MaxPool2d((2, 2))\n",
        "        self.relu = nn.ReLU()\n",
        "        self.dropout = nn.Dropout(0.25)\n",
        "\n",
        "        # 768 -> 12(feature height)*64(feature channel)\n",
        "        self.fc = nn.Linear(768, 64)\n",
        "\n",
        "    def forward(self, images):\n",
        "        outputs = self.maxpool(self.relu(self.bn1(self.conv1(images))))\n",
        "        outputs = self.maxpool(self.relu(self.bn2(self.conv2(outputs))))\n",
        "        outputs = self.maxpool(self.relu(self.bn3(self.conv3(outputs))))\n",
        "\n",
        "        outputs = outputs.permute(0, 2, 3, 1)\n",
        "        outputs = outputs.reshape(\n",
        "            outputs.shape[0], -1, outputs.shape[2]*outputs.shape[3])\n",
        "        outputs = torch.stack([self.relu(self.fc(outputs[i]))\n",
        "                               for i in range(outputs.shape[0])])\n",
        "        outputs = self.dropout(outputs)\n",
        "        return outputs\n",
        "\n",
        "\n",
        "class BiLSTM(nn.Module):\n",
        "    def __init__(self, input_size, hidden_size, output_size, num_layers):\n",
        "        super(BiLSTM, self).__init__()\n",
        "        self.hidden_size = hidden_size\n",
        "        self.num_layers = num_layers\n",
        "        self.lstm = nn.LSTM(input_size, hidden_size, num_layers,\n",
        "                            batch_first=True, bidirectional=True, dropout=0.25)\n",
        "        self.fc = nn.Linear(hidden_size * 2, output_size)\n",
        "        self.softmax = nn.LogSoftmax(dim=2)\n",
        "\n",
        "    def forward(self, labels):\n",
        "        h0 = torch.zeros(self.num_layers * 2, labels.size(0),\n",
        "                         self.hidden_size).to(DEVICE)\n",
        "        c0 = torch.zeros(self.num_layers * 2, labels.size(0),\n",
        "                         self.hidden_size).to(DEVICE)\n",
        "\n",
        "        outputs, _ = self.lstm(labels, (h0, c0))\n",
        "        outputs = torch.stack([self.fc(outputs[i])\n",
        "                               for i in range(outputs.shape[0])])\n",
        "        outputs = self.softmax(outputs)\n",
        "        return outputs\n",
        "\n",
        "\n",
        "class CRNN(nn.Module):\n",
        "    def __init__(self, input_size, hidden_size, output_size, num_layers):\n",
        "        super(CRNN, self).__init__()\n",
        "        self.RNN = BiLSTM(input_size, hidden_size,\n",
        "                          output_size, num_layers)\n",
        "        self.CNN = FeatureExtractor()\n",
        "\n",
        "    def forward(self, images):\n",
        "        features = self.CNN(images)\n",
        "        outputs = self.RNN(features)\n",
        "        return outputs"
      ]
    },
    {
      "cell_type": "markdown",
      "metadata": {
        "id": "P1iXUt3wsf4N"
      },
      "source": [
        "## Training Script"
      ]
    },
    {
      "cell_type": "code",
      "execution_count": null,
      "metadata": {
        "colab": {
          "base_uri": "https://localhost:8080/"
        },
        "id": "e0H-IomtsiNP",
        "outputId": "67702b7e-e2d3-4867-cc64-6bdfbadf744c"
      },
      "outputs": [
        {
          "name": "stderr",
          "output_type": "stream",
          "text": [
            "100%|██████████| 2581/2581 [10:55<00:00,  3.93it/s]\n"
          ]
        },
        {
          "name": "stdout",
          "output_type": "stream",
          "text": [
            "TEST correct:  26 / 330274  P: 7.872251524491785e-05\n",
            "Avg CTC loss: 0.5545997249872185\n"
          ]
        },
        {
          "name": "stderr",
          "output_type": "stream",
          "text": [
            "100%|██████████| 2581/2581 [10:56<00:00,  3.93it/s]\n"
          ]
        },
        {
          "name": "stdout",
          "output_type": "stream",
          "text": [
            "TEST correct:  1670 / 330274  P: 0.005056407709962032\n",
            "Avg CTC loss: 0.3116873029301795\n"
          ]
        },
        {
          "name": "stderr",
          "output_type": "stream",
          "text": [
            "100%|██████████| 2581/2581 [10:55<00:00,  3.94it/s]\n"
          ]
        },
        {
          "name": "stdout",
          "output_type": "stream",
          "text": [
            "TEST correct:  14404 / 330274  P: 0.04361227344568449\n",
            "Avg CTC loss: 0.11133863449136387\n"
          ]
        },
        {
          "name": "stderr",
          "output_type": "stream",
          "text": [
            "100%|██████████| 2581/2581 [10:54<00:00,  3.94it/s]\n"
          ]
        },
        {
          "name": "stdout",
          "output_type": "stream",
          "text": [
            "TEST correct:  45308 / 330274  P: 0.13718306618141302\n",
            "Avg CTC loss: -0.035647907011867895\n"
          ]
        },
        {
          "name": "stderr",
          "output_type": "stream",
          "text": [
            "100%|██████████| 2581/2581 [10:58<00:00,  3.92it/s]\n"
          ]
        },
        {
          "name": "stdout",
          "output_type": "stream",
          "text": [
            "TEST correct:  85034 / 330274  P: 0.2574650138975517\n",
            "Avg CTC loss: -0.13975372357626062\n"
          ]
        },
        {
          "name": "stderr",
          "output_type": "stream",
          "text": [
            "100%|██████████| 2581/2581 [10:55<00:00,  3.94it/s]\n"
          ]
        },
        {
          "name": "stdout",
          "output_type": "stream",
          "text": [
            "TEST correct:  113711 / 330274  P: 0.34429292042364823\n",
            "Avg CTC loss: -0.20733233307914217\n"
          ]
        },
        {
          "name": "stderr",
          "output_type": "stream",
          "text": [
            "100%|██████████| 2581/2581 [10:56<00:00,  3.93it/s]\n"
          ]
        },
        {
          "name": "stdout",
          "output_type": "stream",
          "text": [
            "TEST correct:  132755 / 330274  P: 0.4019541350515027\n",
            "Avg CTC loss: -0.2516345434612775\n"
          ]
        },
        {
          "name": "stderr",
          "output_type": "stream",
          "text": [
            " 51%|█████     | 1313/2581 [05:30<05:03,  4.18it/s]"
          ]
        }
      ],
      "source": [
        "import os\n",
        "import torch\n",
        "import numpy as np\n",
        "from tqdm import tqdm\n",
        "from torch import nn\n",
        "import torch.nn.functional as F\n",
        "from torch.utils.data import DataLoader\n",
        "from itertools import groupby\n",
        "\n",
        "# Assuming utils, HRDataset, and CRNN are defined or imported from other cells\n",
        "\n",
        "def train_one_epoch(loader, model, optimizer, criterion, device):\n",
        "    loop = tqdm(loader)\n",
        "    total_loss = 0\n",
        "    correct = 0\n",
        "    total = 0\n",
        "\n",
        "    for batch_idx, (inputs, labels) in enumerate(loop):\n",
        "        batch_size = inputs.shape[0]\n",
        "        inputs = inputs.to(device)\n",
        "\n",
        "        y_pred = model(inputs)\n",
        "        y_pred = y_pred.permute(1, 0, 2)\n",
        "\n",
        "        input_lengths = torch.IntTensor(batch_size).fill_(37)\n",
        "        target_lengths = torch.IntTensor([len(t) for t in labels])\n",
        "\n",
        "        loss = criterion(y_pred.cpu(), labels,\n",
        "                         input_lengths, target_lengths)\n",
        "        total_loss += loss.detach().numpy()\n",
        "\n",
        "        _, max_index = torch.max(y_pred.cpu(), dim=2)\n",
        "\n",
        "        for i in range(batch_size):\n",
        "            raw_prediction = list(max_index[:, i].numpy())\n",
        "\n",
        "            prediction = torch.IntTensor(\n",
        "                [c for c, _ in groupby(raw_prediction) if c != 0])\n",
        "            real = torch.IntTensor(\n",
        "                [c for c, _ in groupby(labels[i]) if c != 0])\n",
        "\n",
        "            if len(prediction) == len(real) and torch.all(prediction.eq(real)):\n",
        "                correct += 1\n",
        "            total += 1\n",
        "\n",
        "        optimizer.zero_grad()\n",
        "        loss.backward()\n",
        "        optimizer.step()\n",
        "\n",
        "    ratio = correct / total\n",
        "    print('TEST correct: ', correct, '/', total, ' P:', ratio)\n",
        "    print(\"Avg CTC loss:\", total_loss/batch_idx)\n",
        "\n",
        "def save_model(model, path):\n",
        "    torch.save(model.state_dict(), path)\n",
        "    print(f\"Model saved to {path}\")\n",
        "\n",
        "def main():\n",
        "    # Use the configuration variables defined earlier in the notebook\n",
        "    train_data = get_dataset(TRAIN_CSV)\n",
        "    valid_data = get_dataset(VALID_CSV)\n",
        "    test_data = get_dataset(TEST_CSV)\n",
        "\n",
        "    train_dataset = HRDataset(train_data, encode, mode='train')\n",
        "    valid_dataset = HRDataset(valid_data, encode, mode='valid')\n",
        "    test_dataset = HRDataset(test_data, encode, mode='test')\n",
        "\n",
        "    train_loader = DataLoader(\n",
        "        train_dataset, batch_size=BATCH_SIZE, shuffle=True, pin_memory=True)\n",
        "    valid_loader = DataLoader(\n",
        "        valid_dataset, batch_size=BATCH_SIZE, shuffle=False, pin_memory=True)\n",
        "    test_loader = DataLoader(\n",
        "        test_dataset, batch_size=BATCH_SIZE, shuffle=False, pin_memory=True)\n",
        "\n",
        "    input_size = 64\n",
        "    hidden_size = 128\n",
        "    output_size = VOCAB_SIZE + 1\n",
        "    num_layers = 2\n",
        "\n",
        "    model = CRNN(input_size, hidden_size, output_size, num_layers)\n",
        "    model.to(DEVICE)\n",
        "\n",
        "    criterion = nn.CTCLoss(blank=0, reduction='mean', zero_infinity=True)\n",
        "    optimizer = torch.optim.Adam(model.parameters(), lr=LEARNING_RATE)\n",
        "\n",
        "    for epoch in range(NUM_EPOCHS):\n",
        "        train_one_epoch(train_loader, model, optimizer, criterion, DEVICE)\n",
        "\n",
        "    # Save the trained model\n",
        "    save_model(model, '/content/crnn_model.pth')\n",
        "\n",
        "\n",
        "if __name__ == \"__main__\":\n",
        "    main()"
      ]
    },
    {
      "cell_type": "markdown",
      "metadata": {
        "id": "EyQUwQAmF3nA"
      },
      "source": [
        "## Implementation"
      ]
    },
    {
      "cell_type": "code",
      "execution_count": null,
      "metadata": {
        "colab": {
          "base_uri": "https://localhost:8080/",
          "height": 670
        },
        "id": "_avvC6RcF5Xg",
        "outputId": "4e329a50-8ecd-48ea-bce7-96ff9e13eec5"
      },
      "outputs": [
        {
          "data": {
            "image/png": "[encoded data removed]",
            "text/plain": [
              "<Figure size 640x480 with 1 Axes>"
            ]
          },
          "metadata": {},
          "output_type": "display_data"
        },
        {
          "name": "stdout",
          "output_type": "stream",
          "text": [
            "Predicted Text: valentine\n"
          ]
        },
        {
          "data": {
            "image/png": "[encoded data removed]",
            "text/plain": [
              "<Figure size 640x480 with 1 Axes>"
            ]
          },
          "metadata": {},
          "output_type": "display_data"
        },
        {
          "name": "stdout",
          "output_type": "stream",
          "text": [
            "Predicted Text: loras\n"
          ]
        },
        {
          "data": {
            "image/png": "[encoded data removed]",
            "text/plain": [
              "<Figure size 640x480 with 1 Axes>"
            ]
          },
          "metadata": {},
          "output_type": "display_data"
        },
        {
          "name": "stdout",
          "output_type": "stream",
          "text": [
            "Predicted Text: thibaltt\n"
          ]
        },
        {
          "data": {
            "image/png": "[encoded data removed]",
            "text/plain": [
              "<Figure size 640x480 with 1 Axes>"
            ]
          },
          "metadata": {},
          "output_type": "display_data"
        },
        {
          "name": "stdout",
          "output_type": "stream",
          "text": [
            "Predicted Text: azabi\n"
          ]
        },
        {
          "data": {
            "image/png": "[encoded data removed]",
            "text/plain": [
              "<Figure size 640x480 with 1 Axes>"
            ]
          },
          "metadata": {},
          "output_type": "display_data"
        },
        {
          "name": "stdout",
          "output_type": "stream",
          "text": [
            "Predicted Text: keeeaal\n"
          ]
        },
        {
          "data": {
            "image/png": "[encoded data removed]",
            "text/plain": [
              "<Figure size 640x480 with 1 Axes>"
            ]
          },
          "metadata": {},
          "output_type": "display_data"
        },
        {
          "name": "stdout",
          "output_type": "stream",
          "text": [
            "Predicted Text: mahenthiran\n"
          ]
        }
      ],
      "source": [
        "import torch\n",
        "import cv2\n",
        "import matplotlib.pyplot as plt\n",
        "from PIL import Image\n",
        "import os\n",
        "\n",
        "DEVICE = \"cuda\" if torch.cuda.is_available() else \"cpu\"\n",
        "IMAGE_SIZE = [300, 100]\n",
        "\n",
        "# Function to load the trained model\n",
        "def load_model(model_path, input_size, hidden_size, output_size, num_layers):\n",
        "    model = CRNN(input_size, hidden_size, output_size, num_layers)\n",
        "    model.load_state_dict(torch.load(model_path))\n",
        "    model.to(DEVICE)\n",
        "    model.eval()  # Set the model to evaluation mode\n",
        "    return model\n",
        "\n",
        "# Function to preprocess the image\n",
        "def preprocess_image(image_path):\n",
        "    image = cv2.imread(image_path, cv2.IMREAD_GRAYSCALE)\n",
        "    image = cv2.resize(image, IMAGE_SIZE, interpolation=cv2.INTER_AREA)\n",
        "    image = cv2.rotate(image, cv2.ROTATE_90_CLOCKWISE) / 255.\n",
        "    image = np.expand_dims(image, 0)\n",
        "    image = torch.as_tensor(image, dtype=torch.float32).unsqueeze(0)  # Add batch dimension\n",
        "    return image\n",
        "\n",
        "# Function to perform inference\n",
        "def infer_image(model, image_path):\n",
        "    image = preprocess_image(image_path).to(DEVICE)\n",
        "    with torch.no_grad():\n",
        "        prediction = model(image)\n",
        "        prediction = prediction.permute(1, 0, 2)\n",
        "        _, max_index = torch.max(prediction, dim=2)\n",
        "\n",
        "        # Decode the prediction\n",
        "        prediction = max_index.squeeze(1).cpu()\n",
        "        result = decode(prediction, get_vocabulary()[0])\n",
        "\n",
        "    return result\n",
        "\n",
        "# Function to display the image\n",
        "def display_image(image_path):\n",
        "    image = Image.open(image_path)\n",
        "    plt.imshow(image, cmap='gray')\n",
        "    plt.axis('off')\n",
        "    plt.show()\n",
        "\n",
        "if __name__ == \"__main__\":\n",
        "    # Load the trained model\n",
        "    model_path = '/content/crnn_model.pth'\n",
        "    input_size = 64\n",
        "    hidden_size = 128\n",
        "    output_size = VOCAB_SIZE + 1\n",
        "    num_layers = 2\n",
        "\n",
        "    model = load_model(model_path, input_size, hidden_size, output_size, num_layers)\n",
        "\n",
        "    # Directory containing the test images\n",
        "    test_images_dir = '/mnt/data/'  # Replace with your test images directory\n",
        "\n",
        "    # List of image filenames to test\n",
        "    test_images = ['/content/test_v2/test/TEST_0007.jpg', '/content/test_v2/test/TEST_0008.jpg',\n",
        "                   '/content/test_v2/test/TEST_0009.jpg', '/content/test_v2/test/TEST_0010.jpg',\n",
        "                   '/content/one.jpg', '/content/test_v2/test/TEST_0012.jpg']\n",
        "                   # Replace with your image filenames\n",
        "\n",
        "    for image_filename in test_images:\n",
        "        image_path = os.path.join(test_images_dir, image_filename)\n",
        "\n",
        "        # Display the image\n",
        "        display_image(image_path)\n",
        "\n",
        "        # Perform inference\n",
        "        prediction = infer_image(model, image_path)\n",
        "\n",
        "        print(f\"Predicted Text: {prediction}\")\n"
      ]
    }
  ],
  "metadata": {
    "accelerator": "GPU",
    "colab": {
      "gpuType": "T4",
      "provenance": []
    },
    "kernelspec": {
      "display_name": "Python 3",
      "name": "python3"
    },
    "language_info": {
      "name": "python"
    }
  },
  "nbformat": 4,
  "nbformat_minor": 0
}
